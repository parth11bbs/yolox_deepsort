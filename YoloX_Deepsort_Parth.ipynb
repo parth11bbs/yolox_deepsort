{
  "cells": [
    {
      "cell_type": "markdown",
      "metadata": {
        "id": "view-in-github",
        "colab_type": "text"
      },
      "source": [
        "<a href=\"https://colab.research.google.com/github/parth11bbs/yolox_deepsort/blob/main/YoloX_Deepsort_Parth.ipynb\" target=\"_parent\"><img src=\"https://colab.research.google.com/assets/colab-badge.svg\" alt=\"Open In Colab\"/></a>"
      ]
    },
    {
      "cell_type": "code",
      "execution_count": 1,
      "metadata": {
        "colab": {
          "base_uri": "https://localhost:8080/"
        },
        "id": "kHeHdMVrazmP",
        "outputId": "a06ab940-0744-46ca-8201-4933764dd03f"
      },
      "outputs": [
        {
          "output_type": "stream",
          "name": "stdout",
          "text": [
            "fatal: destination path 'yolox_deepsort' already exists and is not an empty directory.\n"
          ]
        }
      ],
      "source": [
        "# github repulling\n",
        "!git clone https://github.com/parth11bbs/yolox_deepsort.git"
      ]
    },
    {
      "cell_type": "markdown",
      "metadata": {
        "id": "2zeCmRjy_cPr"
      },
      "source": [
        "#Installing dependencies\n"
      ]
    },
    {
      "cell_type": "code",
      "execution_count": 2,
      "metadata": {
        "colab": {
          "base_uri": "https://localhost:8080/"
        },
        "id": "BSzc911yAMYq",
        "outputId": "5c7a0f15-97c9-499d-ac08-79ca6d5d8865"
      },
      "outputs": [
        {
          "output_type": "stream",
          "name": "stdout",
          "text": [
            "/content/yolox_deepsort\n",
            "Looking in indexes: https://pypi.org/simple, https://us-python.pkg.dev/colab-wheels/public/simple/\n",
            "Requirement already satisfied: pip in /usr/local/lib/python3.7/dist-packages (22.3.1)\n",
            "\u001b[33mWARNING: Running pip as the 'root' user can result in broken permissions and conflicting behaviour with the system package manager. It is recommended to use a virtual environment instead: https://pip.pypa.io/warnings/venv\u001b[0m\u001b[33m\n",
            "\u001b[0m\u001b[33mWARNING: Running pip as the 'root' user can result in broken permissions and conflicting behaviour with the system package manager. It is recommended to use a virtual environment instead: https://pip.pypa.io/warnings/venv\u001b[0m\u001b[33m\n",
            "\u001b[0m"
          ]
        }
      ],
      "source": [
        "# Installing requirementes.txt\n",
        "\n",
        "%cd yolox_deepsort\n",
        "\n",
        "!pip3 install -U pip\n",
        "\n",
        "!pip3 install -qr requirements.txt\n",
        "\n"
      ]
    },
    {
      "cell_type": "code",
      "execution_count": 3,
      "metadata": {
        "colab": {
          "base_uri": "https://localhost:8080/"
        },
        "id": "u5SFlAYPAFcp",
        "outputId": "c94da4ad-806e-42e5-8316-356887ce32b2"
      },
      "outputs": [
        {
          "output_type": "stream",
          "name": "stdout",
          "text": [
            "Looking in indexes: https://pypi.org/simple, https://us-python.pkg.dev/colab-wheels/public/simple/\n",
            "Collecting git+https://github.com/cocodataset/cocoapi.git#subdirectory=PythonAPI\n",
            "  Cloning https://github.com/cocodataset/cocoapi.git to /tmp/pip-req-build-8u4sijou\n",
            "  Running command git clone --filter=blob:none --quiet https://github.com/cocodataset/cocoapi.git /tmp/pip-req-build-8u4sijou\n",
            "  Resolved https://github.com/cocodataset/cocoapi.git to commit 8c9bcc3cf640524c4c20a9c40e89cb6a2f2fa0e9\n",
            "  Preparing metadata (setup.py) ... \u001b[?25l\u001b[?25hdone\n",
            "Requirement already satisfied: setuptools>=18.0 in /usr/local/lib/python3.7/dist-packages (from pycocotools==2.0) (57.4.0)\n",
            "Requirement already satisfied: cython>=0.27.3 in /usr/local/lib/python3.7/dist-packages (from pycocotools==2.0) (0.29.32)\n",
            "Requirement already satisfied: matplotlib>=2.1.0 in /usr/local/lib/python3.7/dist-packages (from pycocotools==2.0) (3.2.2)\n",
            "Requirement already satisfied: numpy>=1.11 in /usr/local/lib/python3.7/dist-packages (from matplotlib>=2.1.0->pycocotools==2.0) (1.21.6)\n",
            "Requirement already satisfied: kiwisolver>=1.0.1 in /usr/local/lib/python3.7/dist-packages (from matplotlib>=2.1.0->pycocotools==2.0) (1.4.4)\n",
            "Requirement already satisfied: cycler>=0.10 in /usr/local/lib/python3.7/dist-packages (from matplotlib>=2.1.0->pycocotools==2.0) (0.11.0)\n",
            "Requirement already satisfied: python-dateutil>=2.1 in /usr/local/lib/python3.7/dist-packages (from matplotlib>=2.1.0->pycocotools==2.0) (2.8.2)\n",
            "Requirement already satisfied: pyparsing!=2.0.4,!=2.1.2,!=2.1.6,>=2.0.1 in /usr/local/lib/python3.7/dist-packages (from matplotlib>=2.1.0->pycocotools==2.0) (3.0.9)\n",
            "Requirement already satisfied: typing-extensions in /usr/local/lib/python3.7/dist-packages (from kiwisolver>=1.0.1->matplotlib>=2.1.0->pycocotools==2.0) (4.1.1)\n",
            "Requirement already satisfied: six>=1.5 in /usr/local/lib/python3.7/dist-packages (from python-dateutil>=2.1->matplotlib>=2.1.0->pycocotools==2.0) (1.15.0)\n",
            "\u001b[33mWARNING: Running pip as the 'root' user can result in broken permissions and conflicting behaviour with the system package manager. It is recommended to use a virtual environment instead: https://pip.pypa.io/warnings/venv\u001b[0m\u001b[33m\n",
            "\u001b[0m"
          ]
        }
      ],
      "source": [
        "# builing pycocotools\n",
        "\n",
        "!pip3 install 'git+https://github.com/cocodataset/cocoapi.git#subdirectory=PythonAPI'"
      ]
    },
    {
      "cell_type": "code",
      "execution_count": 4,
      "metadata": {
        "colab": {
          "base_uri": "https://localhost:8080/"
        },
        "id": "2TerPljQAlty",
        "outputId": "2aaf2266-4f7a-468d-ea13-94587666d176"
      },
      "outputs": [
        {
          "output_type": "stream",
          "name": "stdout",
          "text": [
            "Using pip 22.3.1 from /usr/local/lib/python3.7/dist-packages/pip (python 3.7)\n",
            "Looking in indexes: https://pypi.org/simple, https://us-python.pkg.dev/colab-wheels/public/simple/\n",
            "Obtaining file:///content/yolox_deepsort\n",
            "  Running command python setup.py egg_info\n",
            "  running egg_info\n",
            "  creating /tmp/pip-pip-egg-info-32zhsbi9/yolox.egg-info\n",
            "  writing /tmp/pip-pip-egg-info-32zhsbi9/yolox.egg-info/PKG-INFO\n",
            "  writing dependency_links to /tmp/pip-pip-egg-info-32zhsbi9/yolox.egg-info/dependency_links.txt\n",
            "  writing top-level names to /tmp/pip-pip-egg-info-32zhsbi9/yolox.egg-info/top_level.txt\n",
            "  writing manifest file '/tmp/pip-pip-egg-info-32zhsbi9/yolox.egg-info/SOURCES.txt'\n",
            "  adding license file 'LICENSE'\n",
            "  writing manifest file '/tmp/pip-pip-egg-info-32zhsbi9/yolox.egg-info/SOURCES.txt'\n",
            "  Preparing metadata (setup.py) ... \u001b[?25l\u001b[?25hdone\n",
            "Installing collected packages: yolox\n",
            "  Attempting uninstall: yolox\n",
            "    Found existing installation: yolox 0.1.0\n",
            "    Can't uninstall 'yolox'. No files were found to uninstall.\n",
            "  Running setup.py develop for yolox\n",
            "    Running command python setup.py develop\n",
            "    running develop\n",
            "    running egg_info\n",
            "    writing yolox.egg-info/PKG-INFO\n",
            "    writing dependency_links to yolox.egg-info/dependency_links.txt\n",
            "    writing top-level names to yolox.egg-info/top_level.txt\n",
            "    adding license file 'LICENSE'\n",
            "    writing manifest file 'yolox.egg-info/SOURCES.txt'\n",
            "    running build_ext\n",
            "    building 'yolox._C' extension\n",
            "    Emitting ninja build file /content/yolox_deepsort/build/temp.linux-x86_64-3.7/build.ninja...\n",
            "    Compiling objects...\n",
            "    Allowing ninja to set a default number of workers... (overridable by setting the environment variable MAX_JOBS=N)\n",
            "    ninja: no work to do.\n",
            "    x86_64-linux-gnu-g++ -pthread -shared -Wl,-O1 -Wl,-Bsymbolic-functions -Wl,-Bsymbolic-functions -g -fwrapv -O2 -Wl,-Bsymbolic-functions -g -fwrapv -O2 -g -fstack-protector-strong -Wformat -Werror=format-security -Wdate-time -D_FORTIFY_SOURCE=2 /content/yolox_deepsort/build/temp.linux-x86_64-3.7/content/yolox_deepsort/yolox/layers/csrc/vision.o /content/yolox_deepsort/build/temp.linux-x86_64-3.7/content/yolox_deepsort/yolox/layers/csrc/cocoeval/cocoeval.o -L/usr/local/lib/python3.7/dist-packages/torch/lib -lc10 -ltorch -ltorch_cpu -ltorch_python -o build/lib.linux-x86_64-3.7/yolox/_C.cpython-37m-x86_64-linux-gnu.so\n",
            "    copying build/lib.linux-x86_64-3.7/yolox/_C.cpython-37m-x86_64-linux-gnu.so -> yolox\n",
            "    Creating /usr/local/lib/python3.7/dist-packages/yolox.egg-link (link to .)\n",
            "    yolox 0.1.0 is already the active version in easy-install.pth\n",
            "\n",
            "    Installed /content/yolox_deepsort\n",
            "Successfully installed yolox-0.1.0\n",
            "\u001b[33mWARNING: Running pip as the 'root' user can result in broken permissions and conflicting behaviour with the system package manager. It is recommended to use a virtual environment instead: https://pip.pypa.io/warnings/venv\u001b[0m\u001b[33m\n",
            "\u001b[0m"
          ]
        }
      ],
      "source": [
        "# Installing and Building Yolox\n",
        "!pip3 install -v -e ."
      ]
    },
    {
      "cell_type": "markdown",
      "metadata": {
        "id": "nTaUaYOQ_ov_"
      },
      "source": [
        "#Getting the Files ready"
      ]
    },
    {
      "cell_type": "code",
      "execution_count": 5,
      "metadata": {
        "id": "mieMe34xBQpv"
      },
      "outputs": [],
      "source": [
        "# Creating the weights folder\n",
        "import os\n",
        "\n",
        "if not os.path.exists(\"weights\"):\n",
        "  os.mkdir(\"weights\")\n",
        "  \n"
      ]
    },
    {
      "cell_type": "code",
      "execution_count": 6,
      "metadata": {
        "colab": {
          "base_uri": "https://localhost:8080/"
        },
        "id": "EPFkwGETBhVe",
        "outputId": "282c3a46-0d2f-4e6f-ee6c-47686b36b08d"
      },
      "outputs": [
        {
          "output_type": "stream",
          "name": "stdout",
          "text": [
            "File ‘/content/yolox_deepsort/weights/yolox_s.pth’ already there; not retrieving.\n",
            "\n"
          ]
        }
      ],
      "source": [
        "# Download Weights\n",
        "!wget -nc https://github.com/Megvii-BaseDetection/YOLOX/releases/download/0.1.1rc0/yolox_s.pth -P /content/yolox_deepsort/weights\n"
      ]
    },
    {
      "cell_type": "markdown",
      "metadata": {
        "id": "7DqrNmavueoj"
      },
      "source": [
        "#Execution"
      ]
    },
    {
      "cell_type": "code",
      "execution_count": 7,
      "metadata": {
        "id": "j04nHdvT6P_M"
      },
      "outputs": [],
      "source": [
        "# !git pull\n",
        "# !python detector.py video .mp4"
      ]
    },
    {
      "cell_type": "code",
      "source": [
        "!git pull\n",
        "!python Tracker.py video.mp4"
      ],
      "metadata": {
        "id": "Akpsv-D18V34",
        "colab": {
          "base_uri": "https://localhost:8080/"
        },
        "outputId": "9a1565e3-d3ae-451d-b192-b9c6b4bd8152"
      },
      "execution_count": 8,
      "outputs": [
        {
          "output_type": "stream",
          "name": "stdout",
          "text": [
            "Already up to date.\n",
            "/usr/local/lib/python3.7/dist-packages/torch/functional.py:478: UserWarning: torch.meshgrid: in an upcoming release, it will be required to pass the indexing argument. (Triggered internally at  ../aten/src/ATen/native/TensorShape.cpp:2894.)\n",
            "  return _VF.meshgrid(tensors, **kwargs)  # type: ignore[attr-defined]\n"
          ]
        }
      ]
    },
    {
      "cell_type": "code",
      "source": [],
      "metadata": {
        "id": "e6a7kmrAt8e5"
      },
      "execution_count": 8,
      "outputs": []
    }
  ],
  "metadata": {
    "accelerator": "GPU",
    "colab": {
      "collapsed_sections": [],
      "machine_shape": "hm",
      "provenance": [],
      "include_colab_link": true
    },
    "kernelspec": {
      "display_name": "Python 3",
      "name": "python3"
    },
    "language_info": {
      "name": "python"
    }
  },
  "nbformat": 4,
  "nbformat_minor": 0
}